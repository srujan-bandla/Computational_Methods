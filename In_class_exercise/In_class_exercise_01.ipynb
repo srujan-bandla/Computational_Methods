{
  "cells": [
    {
      "cell_type": "markdown",
      "metadata": {
        "id": "view-in-github",
        "colab_type": "text"
      },
      "source": [
        "<a href=\"https://colab.research.google.com/github/srujan-bandla/srujan_INFO5731_Fall2022/blob/main/In_class_exercise/In_class_exercise_01.ipynb\" target=\"_parent\"><img src=\"https://colab.research.google.com/assets/colab-badge.svg\" alt=\"Open In Colab\"/></a>"
      ]
    },
    {
      "cell_type": "markdown",
      "metadata": {
        "id": "DymRJbxDBCnf"
      },
      "source": [
        "# **The first In-class-exercise (09/07/2022, 40 points in total)**"
      ]
    },
    {
      "cell_type": "markdown",
      "metadata": {
        "id": "03jb4GZsBkBS"
      },
      "source": [
        "(1) Write a Python program to calculate the length of a string. (4 points)"
      ]
    },
    {
      "cell_type": "code",
      "execution_count": 13,
      "metadata": {
        "id": "YaGLbSHHB8Ej",
        "colab": {
          "base_uri": "https://localhost:8080/"
        },
        "outputId": "2514ebe7-1185-4d60-91bc-f932f278d3d6"
      },
      "outputs": [
        {
          "output_type": "stream",
          "name": "stdout",
          "text": [
            "Length of string : 46\n"
          ]
        }
      ],
      "source": [
        "# write your answer here\n",
        "input_string = \"University of North Texas - MS in Data Science\"\n",
        "print(\"Length of string : {0}\".format(len(input_string)))\n"
      ]
    },
    {
      "cell_type": "markdown",
      "metadata": {
        "id": "jJDe71iLB616"
      },
      "source": [
        "(2) Write a Python program to count the number of characters in a string. (4 points)\n",
        "\n",
        "Sample String : 'google.com‘, \n",
        "\n",
        "Expected Result : {'o': 3, 'g': 2, '.': 1, 'e': 1, 'l': 1, 'm': 1, 'c': 1}"
      ]
    },
    {
      "cell_type": "code",
      "execution_count": 14,
      "metadata": {
        "id": "MtKskTzbCLaU",
        "colab": {
          "base_uri": "https://localhost:8080/"
        },
        "outputId": "42c448c6-7828-42d3-eb6c-7f2ee5be869a"
      },
      "outputs": [
        {
          "output_type": "stream",
          "name": "stdout",
          "text": [
            "Expected Result: {'p': 2, 'a': 1, 'l': 1, 'e': 1, '.': 1, 'c': 1, 'o': 1, 'm': 1}\n",
            "Expected Result : {'o': 3, 'g': 2, 'l': 1, 'e': 1, '.': 1, 'c': 1, 'm': 1}\n"
          ]
        }
      ],
      "source": [
        "# write your answer here\n",
        "import operator\n",
        "\n",
        "def string_To_Dict(str1):\n",
        "  str_dict = dict()\n",
        "  for i in str1:\n",
        "    count = 0\n",
        "    for s in str1:\n",
        "      if i == s:\n",
        "        count += 1\n",
        "    str_dict[i] = count\n",
        "  sorted_d = dict( sorted(str_dict.items(), key=operator.itemgetter(1),reverse=True))\n",
        "  return sorted_d\n",
        "\n",
        "# Declaring an input string and calling above function\n",
        "input_string = \"apple.com\"\n",
        "print(\"Expected Result:\", string_To_Dict(input_string))\n",
        "\n",
        "input_string1 = \"google.com\"\n",
        "print(\"Expected Result :\", string_To_Dict(input_string1))\n"
      ]
    },
    {
      "cell_type": "markdown",
      "metadata": {
        "id": "55W9AMdXCSpV"
      },
      "source": [
        "(3) Write a Python program to sum all the items in a list. (4 points)"
      ]
    },
    {
      "cell_type": "code",
      "execution_count": 15,
      "metadata": {
        "id": "I57NXsauCec2",
        "colab": {
          "base_uri": "https://localhost:8080/"
        },
        "outputId": "71e9b091-b902-424e-8626-abc766cf8bda"
      },
      "outputs": [
        {
          "output_type": "stream",
          "name": "stdout",
          "text": [
            "36\n"
          ]
        }
      ],
      "source": [
        "# write your answer here\n",
        "def sum_list(items):  \n",
        "    sum_numbers = 0  \n",
        "    for x in items:  \n",
        "        sum_numbers += x  \n",
        "    return sum_numbers\n",
        "\n",
        "\n",
        "print(sum_list([25,12,-18,3,8,-10,16]))\n"
      ]
    },
    {
      "cell_type": "markdown",
      "metadata": {
        "id": "4ulBZ6yhCi9F"
      },
      "source": [
        "(4) Write a Python program to get a string from a given string where all occurrences of its first char have been changed to '\\$', except the first char itself. (4 points)\n",
        "\n",
        "Sample String : 'restart‘, \n",
        "\n",
        "Expected Result : 'resta\\$t'"
      ]
    },
    {
      "cell_type": "code",
      "execution_count": 16,
      "metadata": {
        "id": "Fj0XhwbBCw2o",
        "colab": {
          "base_uri": "https://localhost:8080/"
        },
        "outputId": "9f7d3fff-f062-467d-db1c-61a9c37e422e"
      },
      "outputs": [
        {
          "output_type": "stream",
          "name": "stdout",
          "text": [
            "resta$t\n",
            "goo$le\n"
          ]
        }
      ],
      "source": [
        "# write your answer here\n",
        "def change_char(str1):  \n",
        "  char = str1[0]  \n",
        "  length = len(str1)  \n",
        "  str1 = str1.replace(char, '$')  \n",
        "  str1 = char + str1[1:]  \n",
        "  \n",
        "  return str1  \n",
        "  \n",
        "print(change_char('restart'))\n",
        "print(change_char('google'))\n"
      ]
    },
    {
      "cell_type": "markdown",
      "metadata": {
        "id": "_bIP7s1MCzue"
      },
      "source": [
        "(5) Write a program with python which could accept two parameter a and b to calculate and output the result of S, where \n",
        "\n",
        "$\\ S=3.14*(1+a/b)^3$ (4 points)\n",
        "\n"
      ]
    },
    {
      "cell_type": "code",
      "execution_count": 17,
      "metadata": {
        "id": "w79QilHXD3Mg",
        "colab": {
          "base_uri": "https://localhost:8080/"
        },
        "outputId": "1d76f92f-f164-48be-c472-caccf299ffd6"
      },
      "outputs": [
        {
          "output_type": "stream",
          "name": "stdout",
          "text": [
            "Enter the value of a: 3\n",
            "Enter the value of b: 5\n",
            "12.861440000000004\n"
          ]
        }
      ],
      "source": [
        "# write your answer here\n",
        "a = int(input(\"Enter the value of a: \"))\n",
        "b = int(input(\"Enter the value of b: \"))\n",
        "S = 3.14 * (1 + a/b)**3\n",
        "print(S)\n"
      ]
    },
    {
      "cell_type": "markdown",
      "metadata": {
        "id": "xCa2bK9aD4Q3"
      },
      "source": [
        "(6) Write a Python program to concatenate following dictionaries to create a new one. (4 points)\n",
        "\n",
        "Sample Dictionary : dic1={1:10, 2:20}, dic2={3:30, 4:40}, dic3={5:50,6:60}, \n",
        "\n",
        "Expected Result : {1: 10, 2: 20, 3: 30, 4: 40, 5: 50, 6: 60}\n"
      ]
    },
    {
      "cell_type": "code",
      "execution_count": 18,
      "metadata": {
        "id": "_z4aLqAbEET1",
        "colab": {
          "base_uri": "https://localhost:8080/"
        },
        "outputId": "455bbca4-a871-44a0-84cd-ff72bb3d8122"
      },
      "outputs": [
        {
          "output_type": "stream",
          "name": "stdout",
          "text": [
            "{1: 10, 2: 20, 3: 30, 4: 40, 5: 50, 6: 60}\n"
          ]
        }
      ],
      "source": [
        "# write your answer here\n",
        "dic1 = {1:10, 2:20}\n",
        "dic2 = {3:30, 4:40}\n",
        "dic3 = {5:50,6:60}\n",
        "dic4 = {}  \n",
        "for d in (dic1, dic2, dic3): \n",
        "  dic4.update(d)  \n",
        "print(dic4)"
      ]
    },
    {
      "cell_type": "markdown",
      "metadata": {
        "id": "0v48Vqa7FrQh"
      },
      "source": [
        "(7) Write a Python program to check whether an element exists within a tuple. (4 points)"
      ]
    },
    {
      "cell_type": "code",
      "execution_count": 19,
      "metadata": {
        "id": "7WEmgq-DF2P1",
        "colab": {
          "base_uri": "https://localhost:8080/"
        },
        "outputId": "ecc42cf0-2f57-4a4f-a46c-1e658e654719"
      },
      "outputs": [
        {
          "output_type": "stream",
          "name": "stdout",
          "text": [
            "apple is in given tuple: True\n",
            "1 is in given tuple: True\n",
            "green is in given tuple: False\n"
          ]
        }
      ],
      "source": [
        "# write your answer here\n",
        "input_tuple = ('apple','slack',34, 'red','a', 1, 4, 'Hello')\n",
        "print(\"apple is in given tuple: {0}\".format('apple' in input_tuple))\n",
        "print(\"1 is in given tuple: {0}\".format(1 in input_tuple))\n",
        "print(\"green is in given tuple: {0}\".format('green' in input_tuple))\n"
      ]
    },
    {
      "cell_type": "markdown",
      "metadata": {
        "id": "vD5PYLMuGga_"
      },
      "source": [
        "(8) Write a Python program to find maximum and the minimum value in a set. (4 points)"
      ]
    },
    {
      "cell_type": "code",
      "execution_count": 20,
      "metadata": {
        "id": "t0D5kdJUGjjw",
        "colab": {
          "base_uri": "https://localhost:8080/"
        },
        "outputId": "c87ed220-95df-41ae-a31c-0de8d7aa5318"
      },
      "outputs": [
        {
          "output_type": "stream",
          "name": "stdout",
          "text": [
            "Maximum is 212, Minimum is 3\n"
          ]
        }
      ],
      "source": [
        "# write your answer here\n",
        "input_set = set([81,55,6,17,110,212,3,45])\n",
        "print(\"Maximum is {0}, Minimum is {1}\".format(max(input_set), min(input_set)))\n"
      ]
    },
    {
      "cell_type": "markdown",
      "metadata": {
        "id": "uHkd-y5VhVWC"
      },
      "source": [
        "(9) Write a Python program to randomly divide the students in this class into six groups for term projects, each group should have at least 4 students but no more than 6 students (including 6). Here is the students list: (4 points)\n",
        "\n",
        "studnet_list = ['ja0964','sa1198','sb1357','vb0218','sc1229','kg0569','kg0470','sg1297','bg0320','fh0141','jl1252','sk1386',\n",
        "           'ak0956','sk1390','sk1458','sk1313','ak0934','vm0377','nm0618','sm1640','sm1907','gn0108','pr0353','dr0609','ms1500','aos0040','ds0814', 'av0659','nv0234','hy0232']"
      ]
    },
    {
      "cell_type": "code",
      "execution_count": 21,
      "metadata": {
        "id": "3iGbmcOBhTwy",
        "colab": {
          "base_uri": "https://localhost:8080/"
        },
        "outputId": "c5047acc-6546-4a54-95e8-ad2e214cb00c"
      },
      "outputs": [
        {
          "output_type": "stream",
          "name": "stdout",
          "text": [
            "[5, 5, 6, 4, 5, 5]\n",
            "Group 1:  ['jl1252', 'ds0814', 'sc1229', 'sg1297', 'av0659']\n",
            "Group 2:  ['pr0353', 'bg0320', 'ak0956', 'vm0377', 'ak0934']\n",
            "Group 3:  ['sk1390', 'vb0218', 'sa1198', 'sm1907', 'aos0040']\n",
            "Group 4:  ['gn0108', 'sk1313', 'sm1640', 'hy0232', 'kg0470', 'sb1357']\n",
            "Group 5:  ['dr0609', 'sk1386', 'fh0141', 'ja0964']\n",
            "Group 6:  ['sk1458', 'kg0569', 'nm0618', 'nv0234', 'ms1500']\n"
          ]
        }
      ],
      "source": [
        "# write your answer here\n",
        "# write your answer here\n",
        "\n",
        "import random\n",
        "#sampling with replacement\n",
        "studnet_list = ['ja0964','sa1198','sb1357','vb0218','sc1229','kg0569','kg0470','sg1297','bg0320',\n",
        "                'fh0141','jl1252','sk1386', 'ak0956','sk1390','sk1458','sk1313','ak0934','vm0377',\n",
        "                'nm0618','sm1640','sm1907','gn0108','pr0353','dr0609','ms1500','aos0040','ds0814', 'av0659','nv0234','hy0232']\n",
        "# studnet_list_fall_2022\n",
        "\n",
        "studnet_list_fall_2022 = ['ma1298','ra0771','ta0330','sb1563','hb0289','hb0295','sb1391','sb1739','mc1159','sc1631',\n",
        "                         'sc1493','mac0494','sd0804','sd0790','se0282','rrg0112','mg1125','mg1127','sg1369','sk2455',\n",
        "                         'svk0038','vk0389','nk0633','sk1860','sk2223','pl0269','sm2589','sm0773','sm1925','km0899',\n",
        "                         'sm1617','mn0484','kp0636','sp1660','slp0337','dr0534','nks0081','hs0559','vv0263','jy0304']\n",
        "\n",
        "group_size = []\n",
        "for i in range(6):\n",
        "    group_size.append(random.randint(4,6))\n",
        "\n",
        "# make sure that the sum of the group size is 22\n",
        "if sum(group_size) == len(studnet_list):\n",
        "    print(group_size)\n",
        "    for j in range(6):\n",
        "        sampling = random.sample(studnet_list,group_size[j-1])\n",
        "        studnet_list = [j for j in studnet_list if j not in sampling]\n",
        "        print(\"Group \" +str(j+1)+\": \", sampling)"
      ]
    },
    {
      "cell_type": "markdown",
      "metadata": {
        "id": "tDJghZUe6Efz"
      },
      "source": [
        "(10) Write a Python program to find the duplicate elements in a given array of integers. Return -1 If there are no such elements. (4 points)"
      ]
    },
    {
      "cell_type": "code",
      "execution_count": 22,
      "metadata": {
        "id": "XyhuAyS_6Efz",
        "colab": {
          "base_uri": "https://localhost:8080/"
        },
        "outputId": "fdd80ef2-26cc-4ad6-87c4-d64132928f52"
      },
      "outputs": [
        {
          "output_type": "stream",
          "name": "stdout",
          "text": [
            "7\n",
            "-1\n",
            "2\n"
          ]
        }
      ],
      "source": [
        "# write your answer here\n",
        "def find_duplicates(nums):\n",
        "    num_set = set()\n",
        "    no_duplicates = -1\n",
        "\n",
        "    for i in range(len(nums)):\n",
        "\n",
        "        if nums[i] in num_set:\n",
        "            return nums[i]\n",
        "        else:\n",
        "            num_set.add(nums[i])\n",
        "\n",
        "    return no_duplicates\n",
        "\n",
        "print(find_duplicates([5, 6, 7, 8, 7, 2, 9, 1, 3, 4]))\n",
        "print(find_duplicates([5, 7, 2, 8, 3, 4]))\n",
        "print(find_duplicates([2, 1, 2, 3, 3, 2, 2]))\n"
      ]
    },
    {
      "cell_type": "markdown",
      "metadata": {
        "id": "zfSOMxnN6Ef0"
      },
      "source": [
        "(11) Write a Python program to select all the Sundays of a specified year. (4 extra points)"
      ]
    },
    {
      "cell_type": "code",
      "execution_count": 23,
      "metadata": {
        "id": "334gal246Ef0",
        "colab": {
          "base_uri": "https://localhost:8080/"
        },
        "outputId": "4111795a-e2fc-404c-d9a5-28048e6cbfa3"
      },
      "outputs": [
        {
          "output_type": "stream",
          "name": "stdout",
          "text": [
            "Sunday,2-1-2022\n",
            "Sunday,9-1-2022\n",
            "Sunday,16-1-2022\n",
            "Sunday,23-1-2022\n",
            "Sunday,30-1-2022\n",
            "Sunday,6-2-2022\n",
            "Sunday,13-2-2022\n",
            "Sunday,20-2-2022\n",
            "Sunday,27-2-2022\n",
            "Sunday,6-3-2022\n",
            "Sunday,13-3-2022\n",
            "Sunday,20-3-2022\n",
            "Sunday,27-3-2022\n",
            "Sunday,3-4-2022\n",
            "Sunday,10-4-2022\n",
            "Sunday,17-4-2022\n",
            "Sunday,24-4-2022\n",
            "Sunday,1-5-2022\n",
            "Sunday,8-5-2022\n",
            "Sunday,15-5-2022\n",
            "Sunday,22-5-2022\n",
            "Sunday,29-5-2022\n",
            "Sunday,5-6-2022\n",
            "Sunday,12-6-2022\n",
            "Sunday,19-6-2022\n",
            "Sunday,26-6-2022\n",
            "Sunday,3-7-2022\n",
            "Sunday,10-7-2022\n",
            "Sunday,17-7-2022\n",
            "Sunday,24-7-2022\n",
            "Sunday,31-7-2022\n",
            "Sunday,7-8-2022\n",
            "Sunday,14-8-2022\n",
            "Sunday,21-8-2022\n",
            "Sunday,28-8-2022\n",
            "Sunday,4-9-2022\n",
            "Sunday,11-9-2022\n",
            "Sunday,18-9-2022\n",
            "Sunday,25-9-2022\n",
            "Sunday,2-10-2022\n",
            "Sunday,9-10-2022\n",
            "Sunday,16-10-2022\n",
            "Sunday,23-10-2022\n",
            "Sunday,30-10-2022\n",
            "Sunday,6-11-2022\n",
            "Sunday,13-11-2022\n",
            "Sunday,20-11-2022\n",
            "Sunday,27-11-2022\n",
            "Sunday,4-12-2022\n",
            "Sunday,11-12-2022\n",
            "Sunday,18-12-2022\n",
            "Sunday,25-12-2022\n"
          ]
        }
      ],
      "source": [
        "# write your answer here\n",
        "from datetime import date\n",
        "import calendar\n",
        "\n",
        "Year= 2022\n",
        "all_sundays = calendar.TextCalendar(calendar.SUNDAY)\n",
        "for m in range(1,13):\n",
        "    for d in all_sundays.itermonthdays(Year,m):\n",
        "        if d!=0:\n",
        "            day=date(Year,m,d)\n",
        "            if day.weekday()==6:\n",
        "                print(\"%s,%d-%d-%d\" % (calendar.day_name[6] ,d,m,Year))\n"
      ]
    }
  ],
  "metadata": {
    "colab": {
      "provenance": [],
      "include_colab_link": true
    },
    "kernelspec": {
      "display_name": "Python 3 (ipykernel)",
      "language": "python",
      "name": "python3"
    },
    "language_info": {
      "codemirror_mode": {
        "name": "ipython",
        "version": 3
      },
      "file_extension": ".py",
      "mimetype": "text/x-python",
      "name": "python",
      "nbconvert_exporter": "python",
      "pygments_lexer": "ipython3",
      "version": "3.9.12"
    }
  },
  "nbformat": 4,
  "nbformat_minor": 0
}