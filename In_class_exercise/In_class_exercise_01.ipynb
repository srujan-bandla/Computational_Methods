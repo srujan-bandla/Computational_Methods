{
  "cells": [
    {
      "cell_type": "markdown",
      "metadata": {
        "id": "view-in-github",
        "colab_type": "text"
      },
      "source": [
        "<a href=\"https://colab.research.google.com/github/srujan-bandla/srujan_INFO5731_Fall2022/blob/main/In_class_exercise/In_class_exercise_01.ipynb\" target=\"_parent\"><img src=\"https://colab.research.google.com/assets/colab-badge.svg\" alt=\"Open In Colab\"/></a>"
      ]
    },
    {
      "cell_type": "markdown",
      "metadata": {
        "id": "DymRJbxDBCnf"
      },
      "source": [
        "# **The first In-class-exercise (09/07/2022, 40 points in total)**"
      ]
    },
    {
      "cell_type": "markdown",
      "metadata": {
        "id": "03jb4GZsBkBS"
      },
      "source": [
        "(1) Write a Python program to calculate the length of a string. (4 points)"
      ]
    },
    {
      "cell_type": "code",
      "execution_count": 3,
      "metadata": {
        "id": "YaGLbSHHB8Ej",
        "colab": {
          "base_uri": "https://localhost:8080/"
        },
        "outputId": "356b5ee1-b979-4f10-9cfc-f9406d02c82c"
      },
      "outputs": [
        {
          "output_type": "stream",
          "name": "stdout",
          "text": [
            "Length of string : 46\n"
          ]
        }
      ],
      "source": [
        "# write your answer here\n",
        "input_string = \"University of North Texas - MS in Data Science\"\n",
        "print(\"Length of string : {0}\".format(len(input_string)))\n"
      ]
    },
    {
      "cell_type": "markdown",
      "metadata": {
        "id": "jJDe71iLB616"
      },
      "source": [
        "(2) Write a Python program to count the number of characters in a string. (4 points)\n",
        "\n",
        "Sample String : 'google.com‘, \n",
        "\n",
        "Expected Result : {'o': 3, 'g': 2, '.': 1, 'e': 1, 'l': 1, 'm': 1, 'c': 1}"
      ]
    },
    {
      "cell_type": "code",
      "execution_count": 5,
      "metadata": {
        "id": "MtKskTzbCLaU",
        "colab": {
          "base_uri": "https://localhost:8080/"
        },
        "outputId": "08d21f8c-9d1d-4568-8f27-9b702a2cb064"
      },
      "outputs": [
        {
          "output_type": "stream",
          "name": "stdout",
          "text": [
            "Expected Result: {'p': 2, 'a': 1, 'l': 1, 'e': 1, '.': 1, 'c': 1, 'o': 1, 'm': 1}\n",
            "Expected Result : {'o': 3, 'g': 2, 'l': 1, 'e': 1, '.': 1, 'c': 1, 'm': 1}\n"
          ]
        }
      ],
      "source": [
        "# write your answer here\n",
        "import operator\n",
        "\n",
        "def string_To_Dict(str1):\n",
        "  str_dict = dict()\n",
        "  for i in str1:\n",
        "    count = 0\n",
        "    for s in str1:\n",
        "      if i == s:\n",
        "        count += 1\n",
        "    str_dict[i] = count\n",
        "  sorted_d = dict( sorted(str_dict.items(), key=operator.itemgetter(1),reverse=True))\n",
        "  return sorted_d\n",
        "\n",
        "# Declaring an input string and calling above function\n",
        "input_string = \"apple.com\"\n",
        "print(\"Expected Result:\", string_To_Dict(input_string))\n",
        "\n",
        "input_string1 = \"google.com\"\n",
        "print(\"Expected Result :\", string_To_Dict(input_string1))\n"
      ]
    },
    {
      "cell_type": "markdown",
      "metadata": {
        "id": "55W9AMdXCSpV"
      },
      "source": [
        "(3) Write a Python program to sum all the items in a list. (4 points)"
      ]
    },
    {
      "cell_type": "code",
      "execution_count": 6,
      "metadata": {
        "id": "I57NXsauCec2",
        "colab": {
          "base_uri": "https://localhost:8080/"
        },
        "outputId": "d96893e7-4ef8-482e-f33e-3cb4f664c4e4"
      },
      "outputs": [
        {
          "output_type": "stream",
          "name": "stdout",
          "text": [
            "36\n"
          ]
        }
      ],
      "source": [
        "# write your answer here\n",
        "def sum_list(items):  \n",
        "    sum_numbers = 0  \n",
        "    for x in items:  \n",
        "        sum_numbers += x  \n",
        "    return sum_numbers\n",
        "\n",
        "\n",
        "print(sum_list([25,12,-18,3,8,-10,16]))\n"
      ]
    },
    {
      "cell_type": "markdown",
      "metadata": {
        "id": "4ulBZ6yhCi9F"
      },
      "source": [
        "(4) Write a Python program to get a string from a given string where all occurrences of its first char have been changed to '\\$', except the first char itself. (4 points)\n",
        "\n",
        "Sample String : 'restart‘, \n",
        "\n",
        "Expected Result : 'resta\\$t'"
      ]
    },
    {
      "cell_type": "code",
      "execution_count": 11,
      "metadata": {
        "id": "Fj0XhwbBCw2o",
        "colab": {
          "base_uri": "https://localhost:8080/"
        },
        "outputId": "e3d72bba-e777-46d7-d31e-7fc5668f47a0"
      },
      "outputs": [
        {
          "output_type": "stream",
          "name": "stdout",
          "text": [
            "resta$t\n",
            "goo$le\n"
          ]
        }
      ],
      "source": [
        "# write your answer here\n",
        "def change_char(str1):  \n",
        "  char = str1[0]  \n",
        "  length = len(str1)  \n",
        "  str1 = str1.replace(char, '$')  \n",
        "  str1 = char + str1[1:]  \n",
        "  \n",
        "  return str1  \n",
        "  \n",
        "print(change_char('restart'))\n",
        "print(change_char('google'))\n"
      ]
    },
    {
      "cell_type": "markdown",
      "metadata": {
        "id": "_bIP7s1MCzue"
      },
      "source": [
        "(5) Write a program with python which could accept two parameter a and b to calculate and output the result of S, where \n",
        "\n",
        "$\\ S=3.14*(1+a/b)^3$ (4 points)\n",
        "\n"
      ]
    },
    {
      "cell_type": "code",
      "execution_count": 12,
      "metadata": {
        "id": "w79QilHXD3Mg",
        "colab": {
          "base_uri": "https://localhost:8080/"
        },
        "outputId": "64c2ccfb-61c5-41ea-b05b-96208f825660"
      },
      "outputs": [
        {
          "output_type": "stream",
          "name": "stdout",
          "text": [
            "Enter the value of a: 10\n",
            "Enter the value of b: 12\n",
            "19.3487962962963\n"
          ]
        }
      ],
      "source": [
        "# write your answer here\n",
        "a = int(input(\"Enter the value of a: \"))\n",
        "b = int(input(\"Enter the value of b: \"))\n",
        "S = 3.14 * (1 + a/b)**3\n",
        "print(S)\n"
      ]
    },
    {
      "cell_type": "markdown",
      "metadata": {
        "id": "xCa2bK9aD4Q3"
      },
      "source": [
        "(6) Write a Python program to concatenate following dictionaries to create a new one. (4 points)\n",
        "\n",
        "Sample Dictionary : dic1={1:10, 2:20}, dic2={3:30, 4:40}, dic3={5:50,6:60}, \n",
        "\n",
        "Expected Result : {1: 10, 2: 20, 3: 30, 4: 40, 5: 50, 6: 60}\n"
      ]
    },
    {
      "cell_type": "code",
      "execution_count": 13,
      "metadata": {
        "id": "_z4aLqAbEET1",
        "colab": {
          "base_uri": "https://localhost:8080/"
        },
        "outputId": "1e7ab08b-4bf2-412f-f709-456e76573caa"
      },
      "outputs": [
        {
          "output_type": "stream",
          "name": "stdout",
          "text": [
            "{1: 10, 2: 20, 3: 30, 4: 40, 5: 50, 6: 60}\n"
          ]
        }
      ],
      "source": [
        "# write your answer here\n",
        "dic1 = {1:10, 2:20}\n",
        "dic2 = {3:30, 4:40}\n",
        "dic3 = {5:50,6:60}\n",
        "dic4 = {}  \n",
        "for d in (dic1, dic2, dic3): \n",
        "  dic4.update(d)  \n",
        "print(dic4)"
      ]
    },
    {
      "cell_type": "markdown",
      "metadata": {
        "id": "0v48Vqa7FrQh"
      },
      "source": [
        "(7) Write a Python program to check whether an element exists within a tuple. (4 points)"
      ]
    },
    {
      "cell_type": "code",
      "execution_count": 14,
      "metadata": {
        "id": "7WEmgq-DF2P1",
        "colab": {
          "base_uri": "https://localhost:8080/"
        },
        "outputId": "75f70013-ad3d-4905-aab3-59af83ecebdd"
      },
      "outputs": [
        {
          "output_type": "stream",
          "name": "stdout",
          "text": [
            "apple is in given tuple: True\n",
            "1 is in given tuple: True\n",
            "green is in given tuple: False\n"
          ]
        }
      ],
      "source": [
        "# write your answer here\n",
        "input_tuple = ('apple','slack',34, 'red','a', 1, 4, 'Hello')\n",
        "print(\"apple is in given tuple: {0}\".format('apple' in input_tuple))\n",
        "print(\"1 is in given tuple: {0}\".format(1 in input_tuple))\n",
        "print(\"green is in given tuple: {0}\".format('green' in input_tuple))\n"
      ]
    },
    {
      "cell_type": "markdown",
      "metadata": {
        "id": "vD5PYLMuGga_"
      },
      "source": [
        "(8) Write a Python program to find maximum and the minimum value in a set. (4 points)"
      ]
    },
    {
      "cell_type": "code",
      "execution_count": 15,
      "metadata": {
        "id": "t0D5kdJUGjjw",
        "colab": {
          "base_uri": "https://localhost:8080/"
        },
        "outputId": "fbf8d586-8f58-42db-983e-3ca18db68223"
      },
      "outputs": [
        {
          "output_type": "stream",
          "name": "stdout",
          "text": [
            "Maximum is 212, Minimum is 3\n"
          ]
        }
      ],
      "source": [
        "# write your answer here\n",
        "input_set = set([81,55,6,17,110,212,3,45])\n",
        "print(\"Maximum is {0}, Minimum is {1}\".format(max(input_set), min(input_set)))\n"
      ]
    },
    {
      "cell_type": "markdown",
      "metadata": {
        "id": "uHkd-y5VhVWC"
      },
      "source": [
        "(9) Write a Python program to randomly divide the students in this class into six groups for term projects, each group should have at least 4 students but no more than 6 students (including 6). Here is the students list: (4 points)\n",
        "\n",
        "studnet_list = ['ja0964','sa1198','sb1357','vb0218','sc1229','kg0569','kg0470','sg1297','bg0320','fh0141','jl1252','sk1386',\n",
        "           'ak0956','sk1390','sk1458','sk1313','ak0934','vm0377','nm0618','sm1640','sm1907','gn0108','pr0353','dr0609','ms1500','aos0040','ds0814', 'av0659','nv0234','hy0232']"
      ]
    },
    {
      "cell_type": "code",
      "execution_count": 16,
      "metadata": {
        "id": "3iGbmcOBhTwy",
        "colab": {
          "base_uri": "https://localhost:8080/"
        },
        "outputId": "8191b625-e924-41e8-e1af-cc086b59bc5d"
      },
      "outputs": [
        {
          "output_type": "stream",
          "name": "stdout",
          "text": [
            "['ms1500', 'sb1357', 'sk1390', 'av0659', 'kg0569']\n",
            "['sc1229', 'sm1640', 'hy0232', 'ms1500', 'bg0320']\n",
            "['vb0218', 'sm1907', 'sk1390', 'aos0040', 'jl1252']\n",
            "['jl1252', 'gn0108', 'sg1297', 'sb1357', 'ja0964']\n",
            "['vb0218', 'sb1357', 'kg0470', 'ja0964', 'ms1500']\n",
            "['sm1907', 'ak0934', 'sg1297', 'kg0569', 'nm0618']\n"
          ]
        }
      ],
      "source": [
        "# write your answer here\n",
        "import random\n",
        "\n",
        "studnet_list = ['ja0964','sa1198','sb1357','vb0218','sc1229','kg0569','kg0470','sg1297','bg0320','fh0141','jl1252','sk1386', 'ak0956','sk1390','sk1458','sk1313','ak0934','vm0377','nm0618','sm1640','sm1907','gn0108','pr0353','dr0609','ms1500','aos0040','ds0814', 'av0659','nv0234','hy0232']\n",
        "for j in range(0,6):\n",
        "    print(random.sample(studnet_list, k = 5))"
      ]
    },
    {
      "cell_type": "markdown",
      "metadata": {
        "id": "tDJghZUe6Efz"
      },
      "source": [
        "(10) Write a Python program to find the duplicate elements in a given array of integers. Return -1 If there are no such elements. (4 points)"
      ]
    },
    {
      "cell_type": "code",
      "execution_count": 20,
      "metadata": {
        "id": "XyhuAyS_6Efz",
        "colab": {
          "base_uri": "https://localhost:8080/"
        },
        "outputId": "8cccae21-812b-4f7d-df66-d3b2201f324c"
      },
      "outputs": [
        {
          "output_type": "stream",
          "name": "stdout",
          "text": [
            "7\n",
            "-1\n",
            "2\n"
          ]
        }
      ],
      "source": [
        "# write your answer here\n",
        "def find_duplicates(nums):\n",
        "    num_set = set()\n",
        "    no_duplicates = -1\n",
        "\n",
        "    for i in range(len(nums)):\n",
        "\n",
        "        if nums[i] in num_set:\n",
        "            return nums[i]\n",
        "        else:\n",
        "            num_set.add(nums[i])\n",
        "\n",
        "    return no_duplicates\n",
        "\n",
        "print(find_duplicates([5, 6, 7, 8, 7, 2, 9, 1, 3, 4]))\n",
        "print(find_duplicates([5, 7, 2, 8, 3, 4]))\n",
        "print(find_duplicates([2, 1, 2, 3, 3, 2, 2]))\n"
      ]
    },
    {
      "cell_type": "markdown",
      "metadata": {
        "id": "zfSOMxnN6Ef0"
      },
      "source": [
        "(11) Write a Python program to select all the Sundays of a specified year. (4 extra points)"
      ]
    },
    {
      "cell_type": "code",
      "execution_count": 28,
      "metadata": {
        "id": "334gal246Ef0",
        "colab": {
          "base_uri": "https://localhost:8080/"
        },
        "outputId": "cfb10bb4-50c1-4990-9ced-a58333ae32f5"
      },
      "outputs": [
        {
          "output_type": "stream",
          "name": "stdout",
          "text": [
            "Sunday,2-1-2022\n",
            "Sunday,9-1-2022\n",
            "Sunday,16-1-2022\n",
            "Sunday,23-1-2022\n",
            "Sunday,30-1-2022\n",
            "Sunday,6-2-2022\n",
            "Sunday,13-2-2022\n",
            "Sunday,20-2-2022\n",
            "Sunday,27-2-2022\n",
            "Sunday,6-3-2022\n",
            "Sunday,13-3-2022\n",
            "Sunday,20-3-2022\n",
            "Sunday,27-3-2022\n",
            "Sunday,3-4-2022\n",
            "Sunday,10-4-2022\n",
            "Sunday,17-4-2022\n",
            "Sunday,24-4-2022\n",
            "Sunday,1-5-2022\n",
            "Sunday,8-5-2022\n",
            "Sunday,15-5-2022\n",
            "Sunday,22-5-2022\n",
            "Sunday,29-5-2022\n",
            "Sunday,5-6-2022\n",
            "Sunday,12-6-2022\n",
            "Sunday,19-6-2022\n",
            "Sunday,26-6-2022\n",
            "Sunday,3-7-2022\n",
            "Sunday,10-7-2022\n",
            "Sunday,17-7-2022\n",
            "Sunday,24-7-2022\n",
            "Sunday,31-7-2022\n",
            "Sunday,7-8-2022\n",
            "Sunday,14-8-2022\n",
            "Sunday,21-8-2022\n",
            "Sunday,28-8-2022\n",
            "Sunday,4-9-2022\n",
            "Sunday,11-9-2022\n",
            "Sunday,18-9-2022\n",
            "Sunday,25-9-2022\n",
            "Sunday,2-10-2022\n",
            "Sunday,9-10-2022\n",
            "Sunday,16-10-2022\n",
            "Sunday,23-10-2022\n",
            "Sunday,30-10-2022\n",
            "Sunday,6-11-2022\n",
            "Sunday,13-11-2022\n",
            "Sunday,20-11-2022\n",
            "Sunday,27-11-2022\n",
            "Sunday,4-12-2022\n",
            "Sunday,11-12-2022\n",
            "Sunday,18-12-2022\n",
            "Sunday,25-12-2022\n"
          ]
        }
      ],
      "source": [
        "# write your answer here\n",
        "from datetime import date\n",
        "import calendar\n",
        "\n",
        "Year= 2022\n",
        "all_sundays = calendar.TextCalendar(calendar.SUNDAY)\n",
        "for m in range(1,13):\n",
        "    for d in all_sundays.itermonthdays(Year,m):\n",
        "        if d!=0:\n",
        "            day=date(Year,m,d)\n",
        "            if day.weekday()==6:\n",
        "                print(\"%s,%d-%d-%d\" % (calendar.day_name[6] ,d,m,Year))\n"
      ]
    }
  ],
  "metadata": {
    "colab": {
      "collapsed_sections": [],
      "provenance": [],
      "include_colab_link": true
    },
    "kernelspec": {
      "display_name": "Python 3 (ipykernel)",
      "language": "python",
      "name": "python3"
    },
    "language_info": {
      "codemirror_mode": {
        "name": "ipython",
        "version": 3
      },
      "file_extension": ".py",
      "mimetype": "text/x-python",
      "name": "python",
      "nbconvert_exporter": "python",
      "pygments_lexer": "ipython3",
      "version": "3.9.12"
    }
  },
  "nbformat": 4,
  "nbformat_minor": 0
}